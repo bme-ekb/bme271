{
 "cells": [
  {
   "cell_type": "markdown",
   "id": "9ef17224-30f8-4fad-a4fa-9bc4ada9a589",
   "metadata": {},
   "source": [
    "# Python Setup\n",
    "\n",
    "\n",
    "1. Get [Docker Desktop](https://docs.docker.com/get-started/introduction/get-docker-desktop/)\n",
    "\n",
    "Note: after you install, it will try to get you to log in and create an account, you don't need to do this. You can click **Skip** in the top right corner instead.\n",
    " \n",
    "2. create a folder/directory where you'll store your python code for the class.\n",
    "3. Create a file called `docker-compose.yml` in that directory and paste the content below (or click here and save/download this file direct to your directory <https://raw.githubusercontent.com/bme-ekb/bme271/refs/heads/main/docker-compose.yml>)\n",
    "\n",
    "```yaml\n",
    "services:\n",
    "  jupyter:\n",
    "    image: quay.io/jupyter/datascience-notebook:2025-03-14\n",
    "    ports:\n",
    "      - \"8888:8888\"\n",
    "    volumes:\n",
    "      - ./:/home/jovyan/work\n",
    "    environment:\n",
    "      JUPYTER_TOKEN: \"bmeekb\"\n",
    "    restart: \"unless-stopped\"\n",
    "```\n",
    "\n",
    "Note: You can create a .yml with Notepad (Windows) or VS Code.\n",
    "   \n",
    "3. open a Terminal\n",
    "4. change directory to where you're going to keep your code `cd path/to/your/python/code`\n",
    "5. `docker compose up -d`\n",
    "6. load your Jupyter Lab <http://localhost:8888/?token=bmeekb>"
   ]
  },
  {
   "cell_type": "code",
   "execution_count": null,
   "id": "2b6a8645-8be4-4ec9-8a5b-557d59689e8c",
   "metadata": {},
   "outputs": [],
   "source": []
  }
 ],
 "metadata": {
  "kernelspec": {
   "display_name": "Python 3 (ipykernel)",
   "language": "python",
   "name": "python3"
  },
  "language_info": {
   "codemirror_mode": {
    "name": "ipython",
    "version": 3
   },
   "file_extension": ".py",
   "mimetype": "text/x-python",
   "name": "python",
   "nbconvert_exporter": "python",
   "pygments_lexer": "ipython3",
   "version": "3.12.9"
  }
 },
 "nbformat": 4,
 "nbformat_minor": 5
}
